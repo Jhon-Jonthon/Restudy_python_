{
 "cells": [
  {
   "cell_type": "markdown",
   "id": "1db9d138",
   "metadata": {},
   "source": [
    "## 練習問題"
   ]
  },
  {
   "cell_type": "code",
   "execution_count": 3,
   "id": "4ee7752b",
   "metadata": {},
   "outputs": [
    {
     "name": "stdout",
     "output_type": "stream",
     "text": [
      "1から10までの偶数を表示します\n",
      "2\n",
      "4\n",
      "6\n",
      "8\n",
      "10\n"
     ]
    }
   ],
   "source": [
    "#practice1\n",
    "print(\"1から10までの偶数を表示します\")\n",
    "\n",
    "for i in range(1,11):\n",
    "    if ( i %2 ==0):\n",
    "        print(i)"
   ]
  },
  {
   "cell_type": "code",
   "execution_count": 4,
   "id": "e14c8fbf",
   "metadata": {},
   "outputs": [
    {
     "name": "stdout",
     "output_type": "stream",
     "text": [
      "2\n",
      "4\n",
      "6\n",
      "8\n",
      "10\n"
     ]
    }
   ],
   "source": [
    "#practice2\n",
    "\n",
    "for i in range(2,11,2):\n",
    "    print(i)"
   ]
  },
  {
   "cell_type": "code",
   "execution_count": 23,
   "id": "7401924d",
   "metadata": {},
   "outputs": [
    {
     "name": "stdout",
     "output_type": "stream",
     "text": [
      "1 \t2 \t3 \t4 \t5 \t6 \t7 \t8 \t9 \t\n",
      "2 \t4 \t6 \t8 \t10 \t12 \t14 \t16 \t18 \t\n",
      "3 \t6 \t9 \t12 \t15 \t18 \t21 \t24 \t27 \t\n",
      "4 \t8 \t12 \t16 \t20 \t24 \t28 \t32 \t36 \t\n",
      "5 \t10 \t15 \t20 \t25 \t30 \t35 \t40 \t45 \t\n",
      "6 \t12 \t18 \t24 \t30 \t36 \t42 \t48 \t54 \t\n",
      "7 \t14 \t21 \t28 \t35 \t42 \t49 \t56 \t63 \t\n",
      "8 \t16 \t24 \t32 \t40 \t48 \t56 \t64 \t72 \t\n",
      "9 \t18 \t27 \t36 \t45 \t54 \t63 \t72 \t81 \t\n"
     ]
    }
   ],
   "source": [
    "#practice4\n",
    "for i in range(1,10):\n",
    "    for j in range(1,10):\n",
    "       print(j*i,\"\\t\", end=\"\")\n",
    "    print()"
   ]
  },
  {
   "cell_type": "code",
   "execution_count": 27,
   "id": "73e483d7",
   "metadata": {},
   "outputs": [
    {
     "name": "stdout",
     "output_type": "stream",
     "text": [
      "*\n",
      "**\n",
      "***\n",
      "****\n",
      "*****\n"
     ]
    }
   ],
   "source": [
    "#practice5\n",
    "for i in range(1,6):\n",
    "    print(\"*\"*i)"
   ]
  },
  {
   "cell_type": "markdown",
   "id": "2aaf0892",
   "metadata": {},
   "source": [
    "## リスト操作"
   ]
  },
  {
   "cell_type": "code",
   "execution_count": 29,
   "id": "063433a0",
   "metadata": {},
   "outputs": [
    {
     "name": "stdout",
     "output_type": "stream",
     "text": [
      "何番目のデータを変更しますか1\n",
      "変更後の値を入れてください11111\n",
      "1 番目のデータ 60 を変更します\n",
      "\n",
      "0番目のデータ:80\n",
      "1番目のデータ:11111\n",
      "2番目のデータ:22\n",
      "3番目のデータ:50\n",
      "4番目のデータ:75\n"
     ]
    }
   ],
   "source": [
    "sale = [80,60,22,50,75]\n",
    "\n",
    "i = int(input(\"何番目のデータを変更しますか\"))\n",
    "num = int(input(\"変更後の値を入れてください\"))\n",
    "\n",
    "print(i,\"番目のデータ\",sale[i],\"を変更します\")\n",
    "sale[i]=num \n",
    "\n",
    "print()\n",
    "for i in range(len(sale)):\n",
    "    print(\"{}番目のデータ:{}\".format(i,sale[i]))"
   ]
  },
  {
   "cell_type": "code",
   "execution_count": 33,
   "id": "a8142036",
   "metadata": {},
   "outputs": [
    {
     "name": "stdout",
     "output_type": "stream",
     "text": [
      "[80, 11111, 22, 50, 75, 121, 121, 121]\n"
     ]
    }
   ],
   "source": [
    "#末尾に値を追加する\n",
    "sale.append(121)\n",
    "print(sale)"
   ]
  },
  {
   "cell_type": "code",
   "execution_count": 35,
   "id": "5ca0abae",
   "metadata": {},
   "outputs": [
    {
     "name": "stdout",
     "output_type": "stream",
     "text": [
      "[80, 11111, 222, 22, 50, 75, 121, 121, 121]\n"
     ]
    }
   ],
   "source": [
    "#インデックス指定で入れるときはインサート\n",
    "sale.insert(2,222)\n",
    "print(sale)"
   ]
  },
  {
   "cell_type": "code",
   "execution_count": 36,
   "id": "a0a2d65a",
   "metadata": {},
   "outputs": [
    {
     "name": "stdout",
     "output_type": "stream",
     "text": [
      "data1: [1, 2, 3, 4, 5]\n",
      "data2: [1, 2, 3, 4, 5]\n",
      "変更後\n",
      "data1: [10, 2, 3, 4, 5]\n",
      "data2: [10, 2, 3, 4, 5]\n"
     ]
    }
   ],
   "source": [
    "## リストは参照渡しだよーってやつ\n",
    "\n",
    "data1 = [1,2,3,4,5]\n",
    "data2 = data1\n",
    "\n",
    "print(\"data1:\", data1)\n",
    "print(\"data2:\", data2)\n",
    "\n",
    "# data1を変更\n",
    "data1[0]= 10\n",
    "\n",
    "print(\"変更後\")\n",
    "print(\"data1:\", data1)\n",
    "print(\"data2:\", data2)\n"
   ]
  },
  {
   "cell_type": "code",
   "execution_count": 38,
   "id": "b54c593a",
   "metadata": {},
   "outputs": [
    {
     "name": "stdout",
     "output_type": "stream",
     "text": [
      "data1: [1, 2, 3, 4, 5]\n",
      "data2: [1, 2, 3, 4, 5]\n",
      "変更後\n",
      "data1: [10, 2, 3, 4, 5]\n",
      "data2: [1, 2, 3, 4, 5]\n"
     ]
    }
   ],
   "source": [
    "## じゃぁどうやったら新しいやつ渡せるの(値渡し)\n",
    "## 新しくリストオブジェクトを生成する(javaでいうところのnew)\n",
    "data1 = [1,2,3,4,5]\n",
    "\n",
    "data2 = list(data1)\n",
    "# data2 = data1.copy() でも可\n",
    "print(\"data1:\", data1)\n",
    "print(\"data2:\", data2)\n",
    "\n",
    "# data1を変更\n",
    "data1[0]= 10\n",
    "\n",
    "print(\"変更後\")\n",
    "print(\"data1:\", data1)\n",
    "print(\"data2:\", data2)\n"
   ]
  },
  {
   "cell_type": "code",
   "execution_count": 40,
   "id": "d2abc5b7",
   "metadata": {},
   "outputs": [
    {
     "name": "stdout",
     "output_type": "stream",
     "text": [
      "[1, 2, 3, 4, 5, 6, 7, 8, 9, 10]\n"
     ]
    }
   ],
   "source": [
    "## リストの+演算は連結だよーって話\n",
    "\n",
    "list1 = [1,2,3,4,5]\n",
    "list2 = [6,7,8,9,10]\n",
    "\n",
    "list_concat = list1+list2\n",
    "\n",
    "print(list_concat)"
   ]
  },
  {
   "cell_type": "code",
   "execution_count": 47,
   "id": "c4241c3e",
   "metadata": {},
   "outputs": [
    {
     "name": "stdout",
     "output_type": "stream",
     "text": [
      "現在データ [1, 2, 3, 4, 5]\n",
      "\n",
      "data[::-1]をfor分で回す\n",
      "5\n",
      "4\n",
      "3\n",
      "2\n",
      "1\n",
      "data[::-1]の値は [5, 4, 3, 2, 1]\n",
      "現在のdataは [1, 2, 3, 4, 5]\n",
      "\n",
      "reversed(data)を処理する\n",
      "5\n",
      "4\n",
      "3\n",
      "2\n",
      "1\n",
      "現在のdataは [1, 2, 3, 4, 5]\n",
      "\n",
      "data.reverse()を処理\n",
      "1\n",
      "2\n",
      "3\n",
      "4\n",
      "5\n",
      "現在のdataは [1, 2, 3, 4, 5]\n"
     ]
    }
   ],
   "source": [
    "## リストの逆順処理## リストの逆順処理データを行う\n",
    "#メソッドは本体を動かすみたい。\n",
    "data = [1,2,3,4,5]\n",
    "\n",
    "print(\"現在データ\",data)\n",
    "print()\n",
    "print(\"data[::-1]をfor分で回す\")\n",
    "\n",
    "for d in data[::-1]:\n",
    "    print(d)\n",
    "print(\"data[::-1]の値は\",data[::-1])\n",
    "print(\"現在のdataは\",data)\n",
    "\n",
    "print()\n",
    "\n",
    "print(\"reversed(data)を処理する\")\n",
    "\n",
    "for d in reversed(data):\n",
    "    print(d)\n",
    "print(\"現在のdataは\",data)\n",
    "print()\n",
    "print(\"data.reverse()を処理\")\n",
    "data.reverse\n",
    "for d in data:\n",
    "    print(d)\n",
    "print(\"現在のdataは\",data)"
   ]
  },
  {
   "cell_type": "code",
   "execution_count": 54,
   "id": "f2f377d2",
   "metadata": {},
   "outputs": [
    {
     "name": "stdout",
     "output_type": "stream",
     "text": [
      "data: [1, 2, 3, 4, 5]\n",
      "1\n"
     ]
    }
   ],
   "source": [
    "## イテラブルとしての処理\n",
    "\n",
    "print(\"data:\", data)\n",
    "\n",
    "it = iter(data)\n",
    "\n",
    "    print(next(it))"
   ]
  },
  {
   "cell_type": "code",
   "execution_count": null,
   "id": "f94d29e0",
   "metadata": {},
   "outputs": [],
   "source": []
  }
 ],
 "metadata": {
  "kernelspec": {
   "display_name": "Python 3 (ipykernel)",
   "language": "python",
   "name": "python3"
  },
  "language_info": {
   "codemirror_mode": {
    "name": "ipython",
    "version": 3
   },
   "file_extension": ".py",
   "mimetype": "text/x-python",
   "name": "python",
   "nbconvert_exporter": "python",
   "pygments_lexer": "ipython3",
   "version": "3.9.12"
  }
 },
 "nbformat": 4,
 "nbformat_minor": 5
}
