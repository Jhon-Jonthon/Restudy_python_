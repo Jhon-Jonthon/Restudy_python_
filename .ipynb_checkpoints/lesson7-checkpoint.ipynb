{
 "cells": [
  {
   "cell_type": "markdown",
   "id": "623f8c27",
   "metadata": {},
   "source": [
    "# 関数、オブジェクト指向\n",
    "\n",
    "- pythonでは関数定義を呼び出しよりも先に記載する必要がある\n",
    "- 実引数と仮引数の関係\n",
    "    - 関数に与える引数が参照型なのかプリミティブ型なのかによって挙動が変わる\n",
    "    - 参照型で渡された場合は、仮引数と実引数が同一の値を指す\n",
    "    "
   ]
  },
  {
   "cell_type": "code",
   "execution_count": 2,
   "id": "35959a95",
   "metadata": {},
   "outputs": [
    {
     "name": "stdout",
     "output_type": "stream",
     "text": [
      "関数実行前 clist [1, 2, 3, 4, 5]\n",
      "関数実行後 clist [1, 2, 2, 4, 5]\n",
      "関数実行前 777\n",
      "関数実行後 777\n"
     ]
    }
   ],
   "source": [
    "## サンプル\n",
    "def change_num_for_list(clist):\n",
    "        clist[2]= 2\n",
    "def change_primitive_value(value):\n",
    "    value = 4\n",
    "    \n",
    "sample_list = [1,2,3,4,5]\n",
    "value = 777\n",
    "print(\"関数実行前 clist\", sample_list)\n",
    "change_num_for_list(sample_list)\n",
    "print(\"関数実行後 clist\", sample_list)\n",
    "##参照型のデータは参照渡し\n",
    "print(\"関数実行前\",value)\n",
    "change_primitive_value(value)\n",
    "print(\"関数実行後\",value)\n"
   ]
  },
  {
   "cell_type": "markdown",
   "id": "78ce32a1",
   "metadata": {},
   "source": [
    "## javaでは標準装備されていない機能\n",
    "\n",
    "- キーワード引数\n",
    "-　可変長引数\n",
    "    - args (タプルで受け取る)\n",
    "    - kargs (辞書型で受け取る)\n",
    "- 関数内関数\n",
    "- 複数の戻り値を持つ関数\n",
    "- 関数を変数として扱う(関数をリストでコレクション保持)"
   ]
  },
  {
   "cell_type": "code",
   "execution_count": 4,
   "id": "d9e06bd8",
   "metadata": {},
   "outputs": [
    {
     "name": "stdout",
     "output_type": "stream",
     "text": [
      "値を表示 2 3 4\n"
     ]
    }
   ],
   "source": [
    "## 引数の応用的な渡し方\n",
    "# ①デフォルト引数\n",
    "\n",
    "def sample_func(a,b=3,c=4):\n",
    "    print(\"値を表示\",a,b,c)\n",
    "\n",
    "sample_func(2)"
   ]
  },
  {
   "cell_type": "markdown",
   "id": "bbe84ab5",
   "metadata": {},
   "source": [
    "- デフォルト引数を使うときの注意点\n",
    "    - ある引数をデフォルト値として与えたい場合には、それ以降(それより右)がすべてデフォルト引数が指定されてなくてはならない\n",
    "    - 右詰めで使うのがよさそう"
   ]
  },
  {
   "cell_type": "code",
   "execution_count": 5,
   "id": "152d768e",
   "metadata": {},
   "outputs": [
    {
     "name": "stdout",
     "output_type": "stream",
     "text": [
      "(1, 2, 3, 4, 5)\n"
     ]
    }
   ],
   "source": [
    "## 可変長引数\n",
    "#仮引数の前に*をつけると可変長になる\n",
    "def func(*args):\n",
    "    print(args)\n",
    "## 渡されるときはタプルとしてデータが渡される\n",
    "func(1,2,3,4,5)"
   ]
  },
  {
   "cell_type": "code",
   "execution_count": 6,
   "id": "ad109821",
   "metadata": {},
   "outputs": [
    {
     "name": "stdout",
     "output_type": "stream",
     "text": [
      "{'a': 1, 'b': 3, 'c': 4}\n"
     ]
    }
   ],
   "source": [
    "## キーワード引数\n",
    "## こっちは辞書型として渡される\n",
    "def func(**kargs):\n",
    "    print(kargs)\n",
    "    \n",
    "func(a=1,b=3,c=4)"
   ]
  },
  {
   "cell_type": "code",
   "execution_count": 8,
   "id": "db1fdd68",
   "metadata": {},
   "outputs": [
    {
     "name": "stdout",
     "output_type": "stream",
     "text": [
      "2018 年 10 月 1 日に販売が行われました\n",
      "販売完了 2018 10 1\n"
     ]
    }
   ],
   "source": [
    "##　Pythonでは複数の戻り値を指定できる\n",
    "## 形式としてはタプルでリターンされてそれがアンパッキングされて引数を受け取れる\n",
    "def sell():\n",
    "    y = 2018\n",
    "    m = 10\n",
    "    d = 1\n",
    "    print(y,\"年\",m,\"月\",d,\"日に販売が行われました\")\n",
    "    \n",
    "    return y ,m ,d \n",
    "\n",
    "sy ,sm , sd = sell()\n",
    "\n",
    "print(\"販売完了\",sy,sm,sd)"
   ]
  },
  {
   "cell_type": "code",
   "execution_count": 9,
   "id": "65d5125e",
   "metadata": {},
   "outputs": [
    {
     "name": "stdout",
     "output_type": "stream",
     "text": [
      "操作番号を入力してください(0-2)1\n",
      "データを変更します\n"
     ]
    }
   ],
   "source": [
    "## 関数をリストに代入する\n",
    "## 個人的にこれ好き\n",
    "def append():\n",
    "    print(\"データを追加します\")\n",
    "def update():\n",
    "    print(\"データを変更します\")\n",
    "def delete():\n",
    "    print(\"データを削除します\")\n",
    "\n",
    "list = [append,update,delete]\n",
    "\n",
    "res = int(input(\"操作番号を入力してください(0-2)\"))\n",
    "if ( 0 < res and res < len(list)):\n",
    "    list[res]()"
   ]
  },
  {
   "cell_type": "code",
   "execution_count": 10,
   "id": "a18e5d4f",
   "metadata": {},
   "outputs": [
    {
     "name": "stdout",
     "output_type": "stream",
     "text": [
      "2\n",
      "4\n",
      "6\n",
      "8\n",
      "10\n"
     ]
    }
   ],
   "source": [
    "## ラムダ関数\n",
    "data = [1,2,3,4,5]\n",
    "\n",
    "for d in map(lambda x :x*2 ,data):\n",
    "    print(d)"
   ]
  },
  {
   "cell_type": "markdown",
   "id": "3f0edf69",
   "metadata": {},
   "source": [
    "- map関数がすごい便利\n",
    "    - map(function , itterable) で全件対応できる\n",
    "    - lambda 引数 : 計算式　"
   ]
  },
  {
   "cell_type": "code",
   "execution_count": 14,
   "id": "1db12383",
   "metadata": {},
   "outputs": [
    {
     "name": "stdout",
     "output_type": "stream",
     "text": [
      "メッセージを入力してくださいあ\n",
      "---あ---- を入力しました。\n"
     ]
    }
   ],
   "source": [
    "## 関数に機能を追加するときにはデコレータを使う\n",
    "## 使うタイミングあったら追記\n",
    "def deco(func):\n",
    "    def wrapper(x):\n",
    "        wx = \"---\"+x+\"----\"\n",
    "        return func(wx)\n",
    "    return wrapper\n",
    "\n",
    "@deco\n",
    "def printmsg(x):\n",
    "    print(x,\"を入力しました。\")\n",
    "\n",
    "str= input(\"メッセージを入力してください\")\n",
    "printmsg(str)"
   ]
  },
  {
   "cell_type": "code",
   "execution_count": 18,
   "id": "781fd4d4",
   "metadata": {},
   "outputs": [
    {
     "name": "stdout",
     "output_type": "stream",
     "text": [
      "0\n",
      "1\n"
     ]
    }
   ],
   "source": [
    "## ジェネレータを定義する\n",
    "#yield分を使う\n",
    "# return文は無しでyealdで返す値を指定する\n",
    "\n",
    "def maker(x):\n",
    "    while True:\n",
    "        yield x \n",
    "        x +=1 \n",
    "        \n",
    "n = maker(0)\n",
    "print(next(n))\n",
    "print(next(n))"
   ]
  },
  {
   "cell_type": "code",
   "execution_count": null,
   "id": "67297fb3",
   "metadata": {},
   "outputs": [],
   "source": []
  }
 ],
 "metadata": {
  "kernelspec": {
   "display_name": "Python 3 (ipykernel)",
   "language": "python",
   "name": "python3"
  },
  "language_info": {
   "codemirror_mode": {
    "name": "ipython",
    "version": 3
   },
   "file_extension": ".py",
   "mimetype": "text/x-python",
   "name": "python",
   "nbconvert_exporter": "python",
   "pygments_lexer": "ipython3",
   "version": "3.9.12"
  }
 },
 "nbformat": 4,
 "nbformat_minor": 5
}
