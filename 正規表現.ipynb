{
 "cells": [
  {
   "cell_type": "markdown",
   "id": "e44e3ed2",
   "metadata": {},
   "source": [
    "- まず文字列で使える基本そうさをまとめる\n",
    "\n"
   ]
  },
  {
   "cell_type": "code",
   "execution_count": 2,
   "id": "de402a89",
   "metadata": {},
   "outputs": [
    {
     "name": "stdout",
     "output_type": "stream",
     "text": [
      "文字列を入力してくださいabcdef\n",
      "文字列は abcdef です\n",
      "0番目の文字は a です\n",
      "逆さにすると fedcba です\n",
      "文字列の長さは 6 です\n"
     ]
    }
   ],
   "source": [
    "str = input(\"文字列を入力してください\")\n",
    "\n",
    "print(\"文字列は\",str,\"です\")\n",
    "print(\"0番目の文字は\",str[0],\"です\")\n",
    "print(\"逆さにすると\",str[::-1],\"です\")\n",
    "print(\"文字列の長さは\",len(str),\"です\")\n"
   ]
  },
  {
   "cell_type": "code",
   "execution_count": 4,
   "id": "7eca5e08",
   "metadata": {},
   "outputs": [
    {
     "name": "stdout",
     "output_type": "stream",
     "text": [
      "文字列を入力してくださいaaaa\n",
      "大文字にすると AAAA\n",
      "小文字にすると aaaa\n"
     ]
    }
   ],
   "source": [
    "## 大文字小文字の返還\n",
    "str = input(\"文字列を入力してください\")\n",
    "\n",
    "print(\"大文字にすると\",str.upper())\n",
    "print(\"小文字にすると\",str.lower())\n"
   ]
  },
  {
   "cell_type": "code",
   "execution_count": 6,
   "id": "2ac12aa5",
   "metadata": {},
   "outputs": [
    {
     "name": "stdout",
     "output_type": "stream",
     "text": [
      "今日は最悪でいい気分だ!\n"
     ]
    }
   ],
   "source": [
    "## format\n",
    "print(\"{}は{}で{}だ!\".format(\"今日\",\"最悪\",\"いい気分\"))"
   ]
  },
  {
   "cell_type": "markdown",
   "id": "82f415a2",
   "metadata": {},
   "source": [
    "- 文字列周りのメソッドはいろいろある。代表的なものをいくつか挙げる"
   ]
  },
  {
   "cell_type": "code",
   "execution_count": 8,
   "id": "ed7a0671",
   "metadata": {},
   "outputs": [
    {
     "name": "stdout",
     "output_type": "stream",
     "text": [
      "文字列を入力してください\n",
      "操作する文字列を入力してください\n",
      " の 0 の位置に  が見つかりました。\n"
     ]
    }
   ],
   "source": [
    "## 文字列検索、置換とかもある\n",
    "\n",
    "str = input(\"文字列を入力してください\")\n",
    "key = input(\"操作する文字列を入力してください\")\n",
    "\n",
    "#一致した時の先頭indexを返す\n",
    "res = str.find(key)\n",
    "\n",
    "if res != -1:\n",
    "    print(str,\"の\",res,\"の位置に\",key,\"が見つかりました。\")\n",
    "else:\n",
    "    print(\"見つかりません\")"
   ]
  },
  {
   "cell_type": "markdown",
   "id": "4bd38013",
   "metadata": {},
   "source": [
    "### 正規表現\n",
    "\n",
    "- まず、reモジュールを読み込む\n",
    "- 正規表現(patternを読み込んだ正規表現オブジェクトを生成する\n",
    "- それから検索する"
   ]
  },
  {
   "cell_type": "code",
   "execution_count": 12,
   "id": "eb73c85a",
   "metadata": {},
   "outputs": [
    {
     "name": "stdout",
     "output_type": "stream",
     "text": [
      "---------\n",
      "(パターン)Apple(文字列)Hello(マッチ)×\n",
      "(パターン)Apple(文字列)GoodBye(マッチ)×\n",
      "(パターン)Apple(文字列)Thankyou(マッチ)×\n",
      "---------\n",
      "(パターン)GoodBye(文字列)Hello(マッチ)×\n",
      "(パターン)GoodBye(文字列)GoodBye(マッチ)〇\n",
      "(パターン)GoodBye(文字列)Thankyou(マッチ)×\n",
      "---------\n",
      "(パターン)Thankyou(文字列)Hello(マッチ)×\n",
      "(パターン)Thankyou(文字列)GoodBye(マッチ)×\n",
      "(パターン)Thankyou(文字列)Thankyou(マッチ)〇\n"
     ]
    }
   ],
   "source": [
    "## シンプルに文字列パターン検索\n",
    "\n",
    "import re \n",
    "\n",
    "ptr = [\"Apple\",\"GoodBye\",\"Thankyou\"]\n",
    "str = [\"Hello\",\"GoodBye\",\"Thankyou\"]\n",
    "\n",
    "for valuePtr in ptr:\n",
    "    print(\"---------\")\n",
    "    #正規表現に対応するパターンの読み込み\n",
    "    pattern = re.compile(valuePtr)\n",
    "    \n",
    "    for valueStr in str:\n",
    "        \n",
    "        res = pattern.search(valueStr)\n",
    "        if res is not None:\n",
    "            m = \"〇\"\n",
    "        else:\n",
    "            m = \"×\"\n",
    "            \n",
    "        msg = \"(パターン)\" + valuePtr + \"(文字列)\" + valueStr+\"(マッチ)\"+m \n",
    "        \n",
    "        print(msg)"
   ]
  },
  {
   "cell_type": "markdown",
   "id": "81e36080",
   "metadata": {},
   "source": [
    "- よくある記号\n",
    "1. ^ 行頭\n",
    "2. $ 行末"
   ]
  },
  {
   "cell_type": "code",
   "execution_count": 13,
   "id": "67b809c2",
   "metadata": {},
   "outputs": [
    {
     "name": "stdout",
     "output_type": "stream",
     "text": [
      "---------\n",
      "(パターン)TXT(文字列)TXT(マッチ)〇\n",
      "(パターン)TXT(文字列)TXTT(マッチ)〇\n",
      "(パターン)TXT(文字列)TXTTT(マッチ)〇\n",
      "(パターン)TXT(文字列)TTXT(マッチ)〇\n",
      "---------\n",
      "(パターン)^TXT(文字列)TXT(マッチ)〇\n",
      "(パターン)^TXT(文字列)TXTT(マッチ)〇\n",
      "(パターン)^TXT(文字列)TXTTT(マッチ)〇\n",
      "(パターン)^TXT(文字列)TTXT(マッチ)×\n",
      "---------\n",
      "(パターン)TXT$(文字列)TXT(マッチ)〇\n",
      "(パターン)TXT$(文字列)TXTT(マッチ)×\n",
      "(パターン)TXT$(文字列)TXTTT(マッチ)×\n",
      "(パターン)TXT$(文字列)TTXT(マッチ)〇\n",
      "---------\n",
      "(パターン)^TXT$(文字列)TXT(マッチ)〇\n",
      "(パターン)^TXT$(文字列)TXTT(マッチ)×\n",
      "(パターン)^TXT$(文字列)TXTTT(マッチ)×\n",
      "(パターン)^TXT$(文字列)TTXT(マッチ)×\n"
     ]
    }
   ],
   "source": [
    "import re \n",
    "\n",
    "ptr = [\"TXT\",\"^TXT\",\"TXT$\",\"^TXT$\"]\n",
    "str = [\"TXT\", \"TXTT\", \"TXTTT\" , \"TTXT\"]\n",
    "\n",
    "for valuePtr in ptr:\n",
    "    print(\"---------\")\n",
    "    #正規表現に対応するパターンの読み込み\n",
    "    pattern = re.compile(valuePtr)\n",
    "    \n",
    "    for valueStr in str:\n",
    "        \n",
    "        res = pattern.search(valueStr)\n",
    "        if res is not None:\n",
    "            m = \"〇\"\n",
    "        else:\n",
    "            m = \"×\"\n",
    "            \n",
    "        msg = \"(パターン)\" + valuePtr + \"(文字列)\" + valueStr+\"(マッチ)\"+m \n",
    "        \n",
    "        print(msg)"
   ]
  },
  {
   "cell_type": "markdown",
   "id": "393e9d2c",
   "metadata": {},
   "source": [
    "- 範囲の指定のやつ\n",
    "1. [1-4]とかのやつ\n",
    "2. ^ は否定らしい"
   ]
  },
  {
   "cell_type": "code",
   "execution_count": 14,
   "id": "5d06178c",
   "metadata": {},
   "outputs": [
    {
     "name": "stdout",
     "output_type": "stream",
     "text": [
      "---------\n",
      "(パターン)[0123](文字列)0(マッチ)〇\n",
      "(パターン)[0123](文字列)1(マッチ)〇\n",
      "(パターン)[0123](文字列)2(マッチ)〇\n",
      "(パターン)[0123](文字列)3(マッチ)〇\n",
      "---------\n",
      "(パターン)[0-4](文字列)0(マッチ)〇\n",
      "(パターン)[0-4](文字列)1(マッチ)〇\n",
      "(パターン)[0-4](文字列)2(マッチ)〇\n",
      "(パターン)[0-4](文字列)3(マッチ)〇\n",
      "---------\n",
      "(パターン)[^012](文字列)0(マッチ)×\n",
      "(パターン)[^012](文字列)1(マッチ)×\n",
      "(パターン)[^012](文字列)2(マッチ)×\n",
      "(パターン)[^012](文字列)3(マッチ)〇\n"
     ]
    }
   ],
   "source": [
    "ptr = [\"[0123]\",\"[0-4]\",\"[^012]\"]\n",
    "str = [\"0\",\"1\",\"2\",\"3\"]\n",
    "\n",
    "for valuePtr in ptr:\n",
    "    print(\"---------\")\n",
    "    #正規表現に対応するパターンの読み込み\n",
    "    pattern = re.compile(valuePtr)\n",
    "    \n",
    "    for valueStr in str:\n",
    "        \n",
    "        res = pattern.search(valueStr)\n",
    "        if res is not None:\n",
    "            m = \"〇\"\n",
    "        else:\n",
    "            m = \"×\"\n",
    "            \n",
    "        msg = \"(パターン)\" + valuePtr + \"(文字列)\" + valueStr+\"(マッチ)\"+m \n",
    "        \n",
    "        print(msg)"
   ]
  },
  {
   "cell_type": "code",
   "execution_count": 28,
   "id": "f3d070bc",
   "metadata": {},
   "outputs": [],
   "source": [
    "#まとめ　正規表現に対応するやつピックアップするクラス\n",
    "import re \n",
    "class FileCkecker :\n",
    "    def __init__(self , fileList):\n",
    "        self.fileList = fileList \n",
    "        \n",
    "    def print_all(self):\n",
    "        for file in fileList :\n",
    "            print(file)\n",
    "            print()\n",
    "    \n",
    "    def check_file_name(self , str):\n",
    "        nlist = []\n",
    "        pattern = re.compile(str+\"$\")\n",
    "        for file in fileList:\n",
    "            res = pattern.search(file)\n",
    "            if (res is not None):\n",
    "               nlist.append(file)\n",
    "            else:\n",
    "                continue\n",
    "        return nlist"
   ]
  },
  {
   "cell_type": "code",
   "execution_count": 29,
   "id": "cfc64516",
   "metadata": {},
   "outputs": [
    {
     "name": "stdout",
     "output_type": "stream",
     "text": [
      "ファイルリストは以下の通りです\n",
      "xxxx.csv\n",
      "\n",
      "aaaa.py\n",
      "\n",
      "aaaazaz.xml\n",
      "\n",
      "wqwqw.html\n",
      "\n",
      "qqqqq.java\n",
      "\n",
      "aaaaa.csv\n",
      "\n",
      "tytytyt.java\n",
      "\n",
      "拡張子を入力してくださいaaaa\n",
      "該当するファイルは以下です\n"
     ]
    },
    {
     "data": {
      "text/plain": [
       "[]"
      ]
     },
     "execution_count": 29,
     "metadata": {},
     "output_type": "execute_result"
    }
   ],
   "source": [
    "fileList = [\"xxxx.csv\",\"aaaa.py\",\"aaaazaz.xml\",\"wqwqw.html\",\"qqqqq.java\",\"aaaaa.csv\",\"tytytyt.java\"]\n",
    "\n",
    "filechecker = FileCkecker(fileList)\n",
    "\n",
    "print(\"ファイルリストは以下の通りです\")\n",
    "filechecker.print_all()\n",
    "\n",
    "kakutyousi = input(\"拡張子を入力してください\")\n",
    "res = filechecker.check_file_name(kakutyousi)\n",
    "print(\"該当するファイルは以下です\")\n",
    "res "
   ]
  },
  {
   "cell_type": "code",
   "execution_count": null,
   "id": "fcfd2742",
   "metadata": {},
   "outputs": [],
   "source": []
  }
 ],
 "metadata": {
  "kernelspec": {
   "display_name": "Python 3 (ipykernel)",
   "language": "python",
   "name": "python3"
  },
  "language_info": {
   "codemirror_mode": {
    "name": "ipython",
    "version": 3
   },
   "file_extension": ".py",
   "mimetype": "text/x-python",
   "name": "python",
   "nbconvert_exporter": "python",
   "pygments_lexer": "ipython3",
   "version": "3.9.12"
  }
 },
 "nbformat": 4,
 "nbformat_minor": 5
}
