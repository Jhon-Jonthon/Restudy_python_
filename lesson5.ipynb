{
 "cells": [
  {
   "cell_type": "markdown",
   "id": "ccca050e",
   "metadata": {},
   "source": [
    "# 第５章　イテラブル"
   ]
  },
  {
   "cell_type": "markdown",
   "id": "7ff93a02",
   "metadata": {},
   "source": [
    "## zip関数、enumerate割と便利です\n",
    " - パッキング\n",
    " - アンパッキング　\n",
    " ともに対応"
   ]
  },
  {
   "cell_type": "code",
   "execution_count": 5,
   "id": "3eb195e3",
   "metadata": {},
   "outputs": [
    {
     "name": "stdout",
     "output_type": "stream",
     "text": [
      "データを組み合わせます\n",
      "('東京', 44)\n",
      "('名古屋', 323)\n",
      "('大阪', 23)\n",
      "('京都', 2323)\n",
      "データとindexを組み合わせます\n",
      "(0, '東京')\n",
      "(1, '名古屋')\n",
      "(2, '大阪')\n",
      "(3, '京都')\n"
     ]
    }
   ],
   "source": [
    "##リストを組み合わせて使いたい\n",
    "## zip\n",
    "\n",
    "city = [\"東京\",\"名古屋\",\"大阪\",\"京都\"]\n",
    "sale = [44,323,23,2323]\n",
    "print(\"データを組み合わせます\")\n",
    "\n",
    "for d in zip(city,sale):\n",
    "    print(d)\n",
    "\n",
    "print(\"データとindexを組み合わせます\")\n",
    "\n",
    "for d in enumerate(city):\n",
    "    print(d)\n",
    "    \n"
   ]
  },
  {
   "cell_type": "markdown",
   "id": "cb7971e9",
   "metadata": {},
   "source": [
    "## アンパック"
   ]
  },
  {
   "cell_type": "code",
   "execution_count": 8,
   "id": "df99919a",
   "metadata": {},
   "outputs": [
    {
     "name": "stdout",
     "output_type": "stream",
     "text": [
      "都市名は 東京 売り上げは 44\n",
      "都市名は 名古屋 売り上げは 323\n",
      "都市名は 大阪 売り上げは 23\n",
      "都市名は 京都 売り上げは 2323\n"
     ]
    }
   ],
   "source": [
    "#案パッキングできる(便利!)\n",
    "for c, s in zip(city , sale):\n",
    "    print(\"都市名は\",c ,\"売り上げは\", s )"
   ]
  },
  {
   "cell_type": "code",
   "execution_count": 11,
   "id": "60cf6253",
   "metadata": {},
   "outputs": [
    {
     "name": "stdout",
     "output_type": "stream",
     "text": [
      "現在のデータは [1, 2, 3, 4, 5]\n",
      "新しいデータは [4, 8]\n"
     ]
    }
   ],
   "source": [
    "# リスト内包表記\n",
    "\n",
    "data = [1,2,3,4,5]\n",
    "print(\"現在のデータは\", data)\n",
    "\n",
    "ndata = [i*2 for i in data if i%2 == 0]\n",
    "\n",
    "print(\"新しいデータは\", ndata)"
   ]
  },
  {
   "cell_type": "code",
   "execution_count": 12,
   "id": "dc76c5b1",
   "metadata": {},
   "outputs": [
    {
     "name": "stdout",
     "output_type": "stream",
     "text": [
      "現在のデータは [['東京', 12, 212], ['名古屋', 32, 345], ['大阪', 32, 35], ['福岡', 324, 345]]\n"
     ]
    }
   ],
   "source": [
    "## 高次元配列\n",
    "## アクセスの仕方はjavaと同じ\n",
    "data = [\n",
    "    [\"東京\",12,212],\n",
    "    [\"名古屋\",32,345],\n",
    "    [\"大阪\",32,35],\n",
    "    [\"福岡\",324,345],\n",
    "]\n",
    "\n",
    "print(\"現在のデータは\", data)"
   ]
  },
  {
   "cell_type": "code",
   "execution_count": 19,
   "id": "f49d9104",
   "metadata": {},
   "outputs": [
    {
     "name": "stdout",
     "output_type": "stream",
     "text": [
      "都市別データは ['東京', 12, 212] です\n",
      "東京-12-212-\n",
      "都市別データは ['名古屋', 32, 345] です\n",
      "名古屋-32-345-\n",
      "都市別データは ['大阪', 32, 35] です\n",
      "大阪-32-35-\n",
      "都市別データは ['福岡', 324, 345] です\n",
      "福岡-324-345-\n",
      "data[1][2] 345\n",
      "data[0][0] 東京\n"
     ]
    }
   ],
   "source": [
    "for dat in data:\n",
    "    print(\"都市別データは\",dat,\"です\")\n",
    "    for d in dat:\n",
    "        print(d , end= \"-\")\n",
    "    print()\n",
    "    \n",
    "print(\"data[1][2]\",data[1][2]) \n",
    "print(\"data[0][0]\",data[0][0])"
   ]
  },
  {
   "cell_type": "code",
   "execution_count": 25,
   "id": "47baa2ae",
   "metadata": {},
   "outputs": [
    {
     "name": "stdout",
     "output_type": "stream",
     "text": [
      "最高点は 85\n",
      "最低点は 69\n",
      "平均点は 77.2\n"
     ]
    }
   ],
   "source": [
    "## practice1\n",
    "\n",
    "data = [74,85,69,77,81]\n",
    "\n",
    "print(\"最高点は\", max(data))\n",
    "print(\"最低点は\", min(data))\n",
    "print(\"平均点は\", sum(data)/len(data) )"
   ]
  },
  {
   "cell_type": "code",
   "execution_count": 27,
   "id": "c65aa63f",
   "metadata": {},
   "outputs": [
    {
     "data": {
      "text/plain": [
       "[85, 81]"
      ]
     },
     "execution_count": 27,
     "metadata": {},
     "output_type": "execute_result"
    }
   ],
   "source": [
    "# practice3\n",
    "\n",
    "ndata = [i for i in data if i >= 80 ]\n",
    "ndata"
   ]
  },
  {
   "cell_type": "code",
   "execution_count": 30,
   "id": "1efe162e",
   "metadata": {},
   "outputs": [
    {
     "name": "stdout",
     "output_type": "stream",
     "text": [
      "東京 の最低気温は 25 最高気温は 32\n",
      "名古屋 の最低気温は 21 最高気温は 28\n",
      "大阪 の最低気温は 20 最高気温は 27\n",
      "京都 の最低気温は 19 最高気温は 26\n",
      "福岡 の最低気温は 22 最高気温は 27\n"
     ]
    }
   ],
   "source": [
    "## practice3\n",
    "\n",
    "city = [\"東京\",\"名古屋\",\"大阪\",\"京都\",\"福岡\"]\n",
    "max_temp = [32,28,27,26,27]\n",
    "min_temp = [25,21,20,19,22]\n",
    "\n",
    "for max,min,city in zip(max_temp,min_temp,city):\n",
    "    print(city,\"の最低気温は\",min , \"最高気温は\",max)"
   ]
  },
  {
   "cell_type": "code",
   "execution_count": 36,
   "id": "9c77f899",
   "metadata": {},
   "outputs": [
    {
     "name": "stdout",
     "output_type": "stream",
     "text": [
      "現在のデータは {'東京': 80, '名古屋': 60, '京都': 22, '大阪': 50, '福岡': 75} です\n",
      "追加するキーを入力してください12\n",
      "追加するデータを入力してください1\n",
      "データを追加しました\n",
      "現在のデータは {'東京': 80, '名古屋': 60, '京都': 22, '大阪': 50, '福岡': 75, '12': '1'} です\n",
      "どのキーのデータを変更しますか11\n",
      "キーに対応するデータが存在しません\n",
      "現在のデータは {'東京': 80, '名古屋': 60, '京都': 22, '大阪': 50, '福岡': 75, '12': '1'}\n"
     ]
    }
   ],
   "source": [
    "## 辞書型まとめ\n",
    "\n",
    "sale = {\"東京\":80,\"名古屋\":60, \"京都\":22 , \"大阪\":50, \"福岡\":75}\n",
    "print(\"現在のデータは\",sale , \"です\")\n",
    "\n",
    "k = input(\"追加するキーを入力してください\")\n",
    "if k in sale:\n",
    "    print(\"すでにこのキーは存在しています\")\n",
    "else:\n",
    "    d = input(\"追加するデータを入力してください\")\n",
    "    sale[k] = d \n",
    "    print(\"データを追加しました\")\n",
    "print(\"現在のデータは\",sale,\"です\") \n",
    "\n",
    "k = input(\"どのキーのデータを変更しますか\")\n",
    "if k in sale:\n",
    "    print(k,\"のデータは\",sale[k],\"です\")\n",
    "    d = input(\"変更するデータを選んでください\")\n",
    "    sale[k] = d\n",
    "else:\n",
    "          print(\"キーに対応するデータが存在しません\")\n",
    "print(\"現在のデータは\",sale)"
   ]
  },
  {
   "cell_type": "code",
   "execution_count": 37,
   "id": "c6cb5552",
   "metadata": {},
   "outputs": [
    {
     "data": {
      "text/plain": [
       "{'東京': 80, '名古屋': 60, '京都': 22, '大阪': 50, '福岡': 75, '12': '1'}"
      ]
     },
     "execution_count": 37,
     "metadata": {},
     "output_type": "execute_result"
    }
   ],
   "source": [
    "sale"
   ]
  },
  {
   "cell_type": "code",
   "execution_count": 43,
   "id": "83892474",
   "metadata": {},
   "outputs": [
    {
     "name": "stdout",
     "output_type": "stream",
     "text": [
      "現在のデータは {'東京': 80, '名古屋': 60, '京都': 22, '大阪': 50, '福岡': 75} です\n",
      "\n",
      "キーを表示します\n",
      "東京\t名古屋\t京都\t大阪\t福岡\t\n",
      "値を表示します\n",
      "80\t60\t22\t50\t75\t\n",
      "値とキーを表示\n",
      "('東京', 80)\t('名古屋', 60)\t('京都', 22)\t('大阪', 50)\t('福岡', 75)\t"
     ]
    }
   ],
   "source": [
    "## 高度な辞書型の使い方\n",
    "##メソッドなことに注意すること\n",
    "sale = {\"東京\":80,\"名古屋\":60, \"京都\":22 , \"大阪\":50, \"福岡\":75}\n",
    "print(\"現在のデータは\",sale,\"です\")\n",
    "print()\n",
    "print(\"キーを表示します\")\n",
    "for key in sale.keys():\n",
    "    print(key ,end=\"\\t\")\n",
    "print()\n",
    "print(\"値を表示します\")\n",
    "for value in sale.values():\n",
    "    print(value , end=\"\\t\")\n",
    "print()\n",
    "print(\"値とキーを表示\")\n",
    "for item in sale.items():\n",
    "    print(item,end=\"\\t\")"
   ]
  },
  {
   "cell_type": "code",
   "execution_count": null,
   "id": "7d921776",
   "metadata": {},
   "outputs": [],
   "source": []
  }
 ],
 "metadata": {
  "kernelspec": {
   "display_name": "Python 3 (ipykernel)",
   "language": "python",
   "name": "python3"
  },
  "language_info": {
   "codemirror_mode": {
    "name": "ipython",
    "version": 3
   },
   "file_extension": ".py",
   "mimetype": "text/x-python",
   "name": "python",
   "nbconvert_exporter": "python",
   "pygments_lexer": "ipython3",
   "version": "3.9.12"
  }
 },
 "nbformat": 4,
 "nbformat_minor": 5
}
