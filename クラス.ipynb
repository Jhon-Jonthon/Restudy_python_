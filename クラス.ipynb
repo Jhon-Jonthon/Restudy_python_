{
 "cells": [
  {
   "cell_type": "markdown",
   "id": "4c73fe47",
   "metadata": {},
   "source": [
    "- クラス操作\n",
    "    - javaでいうthisがPythonだとself\n",
    "    - 引数のないメソッドを定義するときも、慣習的に引数の一番初めにselfを入れる\n",
    "  \n",
    "- 注意点\n",
    "    - java みたいにフィールドをあらかじめ定義しておく必要がない(使うときに生成するという感じ)"
   ]
  },
  {
   "cell_type": "code",
   "execution_count": 2,
   "id": "778dfe8e",
   "metadata": {},
   "outputs": [
    {
     "name": "stdout",
     "output_type": "stream",
     "text": [
      "鈴木 さんは 23 歳\n"
     ]
    }
   ],
   "source": [
    "## サンプルコード\n",
    "## 当たり前にオブジェクトのリスト化とかもできる\n",
    "class Person:\n",
    "    \n",
    "    def getName(self):\n",
    "        return self.name \n",
    "    \n",
    "    def getAge(self):\n",
    "        return self.age \n",
    "\n",
    "pr = Person()\n",
    "\n",
    "pr.name = \"鈴木\"\n",
    "pr.age = 23\n",
    "\n",
    "n= pr.getName()\n",
    "a = pr.getAge() \n",
    "\n",
    "print(n,\"さんは\",a,\"歳\")\n",
    "    "
   ]
  },
  {
   "cell_type": "code",
   "execution_count": 5,
   "id": "fd130c75",
   "metadata": {},
   "outputs": [
    {
     "name": "stdout",
     "output_type": "stream",
     "text": [
      "斎藤 さんは 22 歳\n",
      "高橋 さんは 32 歳\n"
     ]
    }
   ],
   "source": [
    "## コンストラクタは? ==>>>>>> __init__　で定義しましょう!!!!\n",
    "\n",
    "class Person:\n",
    "    def __init__(self, name ,age):\n",
    "        self.name = name \n",
    "        self.age = age \n",
    "    \n",
    "    def getName(self):\n",
    "        return self.name\n",
    "    \n",
    "    def getAge(self):\n",
    "        return self.age \n",
    "\n",
    "pr1 = Person(\"斎藤\",22)\n",
    "pr2 = Person(\"高橋\",32)\n",
    "\n",
    "personList = [pr1,pr2]\n",
    "\n",
    "for person in personList:\n",
    "    print(person.getName(),\"さんは\",person.getAge(),\"歳\")\n",
    "    "
   ]
  },
  {
   "cell_type": "markdown",
   "id": "af07e729",
   "metadata": {},
   "source": [
    "- クラス変数、クラスメソッドとか(static)\n",
    "    - クラス変数はフィールドみたいな感じであらかじめ初期化して定義をしておく(クラス直下)\n",
    "    - クラスメソッドは@classmethodをつける。んで明示的にcls.メソッド名で呼び出す。\n",
    "    - 注意点　\n",
    "       - cls.クラス変数名だとアクセスできないので注意"
   ]
  },
  {
   "cell_type": "code",
   "execution_count": 9,
   "id": "95c8a237",
   "metadata": {},
   "outputs": [
    {
     "name": "stdout",
     "output_type": "stream",
     "text": [
      "3 人の人げンがいます\n"
     ]
    }
   ],
   "source": [
    "##サンプルコード\n",
    "\n",
    "class Person:\n",
    "    count = 0 \n",
    "    \n",
    "    def __init__(self, name ,age):\n",
    "        Person.count +=1 \n",
    "        \n",
    "        self.name = name \n",
    "        self.age = age \n",
    "    \n",
    "    def getName(self):\n",
    "        return self.name\n",
    "    \n",
    "    def getAge(self):\n",
    "        return self.age \n",
    "    @classmethod\n",
    "    def getCount(cls):\n",
    "        return cls.count \n",
    "    \n",
    "pr1 = Person(\"伊藤\",22)\n",
    "pr2 = Person(\"平岡\",345)\n",
    "pr3 = Person(\"相沢\",343)\n",
    "\n",
    "print(Person.getCount(),\"人の人がいます\")"
   ]
  },
  {
   "cell_type": "markdown",
   "id": "b3895750",
   "metadata": {},
   "source": [
    "## オブジェクト指向\n",
    "①カプセル化  \n",
    "  - privateで宣言したい変数をアンスコで_vallable と命名する\n",
    "  \n",
    "②継承\n",
    "  - 大きくjavaと異なる点は多重継承が許されているということ"
   ]
  },
  {
   "cell_type": "code",
   "execution_count": 17,
   "id": "cf4d45fd",
   "metadata": {},
   "outputs": [],
   "source": [
    "##例\n",
    "class Person:\n",
    "    def __init__(self,name,age):\n",
    "        self._age = age"
   ]
  },
  {
   "cell_type": "code",
   "execution_count": 19,
   "id": "f5bc1ee7",
   "metadata": {},
   "outputs": [],
   "source": [
    "## 値を変更されたくないときは強制的にアンスコ2個で実現する\n",
    "class Person:\n",
    "    def __init__(self,name,age):\n",
    "        self.__age = age\n",
    "\n",
    "pr = Person(\"高橋\",32)"
   ]
  },
  {
   "cell_type": "code",
   "execution_count": null,
   "id": "bdf47b7a",
   "metadata": {},
   "outputs": [],
   "source": [
    "## 継承の仕組みも基本的にjavaと同じ\n",
    "\n",
    "class Customer(Person):\n",
    "    def __init__(self,nm , ag, ad ,tl):\n",
    "        super().__init__(nm,ag)\n",
    "        self.adr = ad\n",
    "        self.tel = tl\n",
    "        \n",
    "    def getName(self):\n",
    "        self.name = \"顧客:\"+ self.name \n",
    "        return self.name\n",
    "    \n",
    "    def getAdr(self):\n",
    "        return self.adr \n",
    "    \n",
    "    def getTel(self):\n",
    "        return self.tel "
   ]
  },
  {
   "cell_type": "code",
   "execution_count": 21,
   "id": "83ce9b2e",
   "metadata": {},
   "outputs": [
    {
     "name": "stdout",
     "output_type": "stream",
     "text": [
      "ナンバーは 1212 ガソリンの量は 22.1\n"
     ]
    }
   ],
   "source": [
    "## practice \n",
    "\n",
    "class Car:\n",
    "    def __init__(self , num , quo):\n",
    "        self.number = num \n",
    "        self.quantity = quo\n",
    "        \n",
    "    def getNumber(self):\n",
    "        return self.number\n",
    "    \n",
    "    def getQuantity(self):\n",
    "        return self.quantity\n",
    "\n",
    "car = Car(1212,22.1)\n",
    "\n",
    "print(\"ナンバーは\",car.getNumber(),\"ガソリンの量は\",car.getQuantity())"
   ]
  },
  {
   "cell_type": "code",
   "execution_count": null,
   "id": "1a7acc51",
   "metadata": {},
   "outputs": [],
   "source": []
  }
 ],
 "metadata": {
  "kernelspec": {
   "display_name": "Python 3 (ipykernel)",
   "language": "python",
   "name": "python3"
  },
  "language_info": {
   "codemirror_mode": {
    "name": "ipython",
    "version": 3
   },
   "file_extension": ".py",
   "mimetype": "text/x-python",
   "name": "python",
   "nbconvert_exporter": "python",
   "pygments_lexer": "ipython3",
   "version": "3.9.12"
  }
 },
 "nbformat": 4,
 "nbformat_minor": 5
}
